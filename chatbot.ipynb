{
 "cells": [
  {
   "cell_type": "code",
   "execution_count": null,
   "metadata": {},
   "outputs": [],
   "source": [
    "from spacy.lang.en import English\n",
    "from tqdm.auto import tqdm\n",
    "from main import page_text\n",
    "import re\n",
    "from sentence_transformers import SentenceTransformer\n",
    "import chromadb\n",
    "from transformers import AutoTokenizer, AutoModelForCausalLM\n",
    "import torch\n",
    "from huggingface_hub import notebook_login"
   ]
  },
  {
   "cell_type": "code",
   "execution_count": null,
   "metadata": {},
   "outputs": [],
   "source": [
    "nlp = English()\n",
    "nlp.add_pipe(\"sentencizer\")\n",
    "\n",
    "for item in tqdm(page_text):\n",
    "    item['sentences'] = list(nlp(item[\"text\"]).sents)\n",
    "    item['sentences'] = [str(sentence) for sentence in item['sentences']]\n",
    "    item['page_sentence_count_spacy'] = len(item['sentences'])"
   ]
  },
  {
   "cell_type": "code",
   "execution_count": null,
   "metadata": {},
   "outputs": [],
   "source": [
    "chunk_size = 10\n",
    "\n",
    "split_list = lambda lst, n=chunk_size: [lst[i:i + n] for i in range(0, len(lst), n)]\n",
    "\n",
    "for item in tqdm(page_text):\n",
    "    sentences = item.get('sentences', [])\n",
    "    chunks = split_list(sentences)\n",
    "    item.update({'sentence_chunks': chunks, 'num_chunks': len(chunks)})\n",
    "\n",
    "for item in tqdm(page_text):\n",
    "    if 'sentence_chunks' in item:\n",
    "        for sentence_chunk in item['sentence_chunks']:\n",
    "            joined_sentence_chunk = \"\".join(sentence_chunk).replace(\"  \", \" \").strip()\n",
    "            item['joined_sentence_chunk'] = re.sub(r'\\.([A-Z])', r'. \\1', joined_sentence_chunk)\n",
    "            item['chunk_token_count'] = len(joined_sentence_chunk) / 4"
   ]
  },
  {
   "cell_type": "code",
   "execution_count": null,
   "metadata": {},
   "outputs": [],
   "source": [
    "model = SentenceTransformer('Alibaba-NLP/gte-base-en-v1.5', trust_remote_code=True).cuda()\n",
    "\n",
    "client = chromadb.Client()\n",
    "\n",
    "collection_name = 'pdf_embeddings'\n",
    "collection = client.create_collection(name=collection_name)\n",
    "\n",
    "ids = []\n",
    "embeddings = []\n",
    "\n",
    "for i, item in enumerate(tqdm(page_text)):\n",
    "    if 'joined_sentence_chunk' in item:\n",
    "        chunk = item['joined_sentence_chunk']\n",
    "        embedding = model.encode(chunk)\n",
    "\n",
    "        item['embedding'] = embedding\n",
    "        ids.append(str(i))\n",
    "        embeddings.append(embedding.tolist())\n",
    "\n",
    "collection.add(ids=ids, embeddings=embeddings)\n",
    "\n",
    "print(\"Data successfully stored in Chroma database.\")"
   ]
  },
  {
   "cell_type": "code",
   "execution_count": null,
   "metadata": {},
   "outputs": [],
   "source": [
    "query = \"What is Positional Encoding\"\n",
    "query_embedding = model.encode(query).tolist()\n",
    "results = collection.query(query_embeddings=[query_embedding], n_results=1)\n",
    "matching_id = results['ids'][0][0]\n",
    "matching_text = page_text[int(matching_id)]['joined_sentence_chunk']\n",
    "print(f\"Text similar to the query: {matching_text}\")"
   ]
  },
  {
   "cell_type": "code",
   "execution_count": null,
   "metadata": {},
   "outputs": [],
   "source": [
    "notebook_login()"
   ]
  },
  {
   "cell_type": "code",
   "execution_count": null,
   "metadata": {},
   "outputs": [],
   "source": [
    "tokenizer = AutoTokenizer.from_pretrained(\"google/gemma-2-2b-it\")\n",
    "model = AutoModelForCausalLM.from_pretrained(\n",
    "    \"google/gemma-2-2b-it\",\n",
    "    device_map=\"auto\",\n",
    "    torch_dtype=torch.bfloat16,\n",
    ")\n",
    "\n",
    "input_text = \"Write me a poem about Machine Learning.\"\n",
    "input_ids = tokenizer(input_text, return_tensors=\"pt\").to(\"cuda\")\n",
    "\n",
    "outputs = model.generate(**input_ids, max_new_tokens=32)\n",
    "\n",
    "output_text = tokenizer.decode(outputs[0], skip_special_tokens=True)\n",
    "print(output_text)"
   ]
  },
  {
   "cell_type": "code",
   "execution_count": null,
   "metadata": {},
   "outputs": [],
   "source": [
    "prompt_tuning = \"Your role is to take the Retrieved data on the query and convert that retrieved data as the query suggest and answer in detail\"\n",
    "input_text = prompt_tuning + query + matching_text\n",
    "input_ids = tokenizer(input_text, return_tensors=\"pt\").to(\"cuda\")\n",
    "\n",
    "outputs = model.generate(**input_ids, max_new_tokens=200)\n",
    "\n",
    "output_text = tokenizer.decode(outputs[0], skip_special_tokens=True)\n",
    "output_text = output_text[len(input_text):].strip()\n",
    "\n",
    "print(output_text)"
   ]
  },
  {
   "cell_type": "code",
   "execution_count": null,
   "metadata": {},
   "outputs": [],
   "source": []
  }
 ],
 "metadata": {
  "language_info": {
   "name": "python"
  }
 },
 "nbformat": 4,
 "nbformat_minor": 2
}
